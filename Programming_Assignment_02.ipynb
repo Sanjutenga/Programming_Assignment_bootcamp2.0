{
  "nbformat": 4,
  "nbformat_minor": 0,
  "metadata": {
    "colab": {
      "provenance": []
    },
    "kernelspec": {
      "name": "python3",
      "display_name": "Python 3"
    },
    "language_info": {
      "name": "python"
    }
  },
  "cells": [
    {
      "cell_type": "markdown",
      "source": [
        "# 1. Write a Python program to convert kilometers to miles?"
      ],
      "metadata": {
        "id": "fd_OdAp15G9R"
      }
    },
    {
      "cell_type": "code",
      "source": [
        "# Kilometers can be easily converted by miles\n",
        "\n",
        "1 Km = 0.621371 miles\n",
        "miles = Km * 0.621371"
      ],
      "metadata": {
        "id": "F28oUAW-5Ik7"
      },
      "execution_count": null,
      "outputs": []
    },
    {
      "cell_type": "code",
      "source": [
        "Km = int(input(\"Enter the value of numbers : \"))\n",
        "\n",
        "conversion = 0.621371\n",
        "miles = Km * 0.621371\n",
        "\n",
        "print(\"the converted value of Km into miles\", miles)"
      ],
      "metadata": {
        "colab": {
          "base_uri": "https://localhost:8080/"
        },
        "id": "uOCtWve6GHKW",
        "outputId": "8b82104c-8936-40e5-8c73-3cff6ce7c5ba"
      },
      "execution_count": 2,
      "outputs": [
        {
          "output_type": "stream",
          "name": "stdout",
          "text": [
            "Enter the value of numbers : 20\n",
            "the converted value of Km into miles 12.42742\n"
          ]
        }
      ]
    },
    {
      "cell_type": "markdown",
      "source": [
        "# 2. Write a Python program to convert Celsius to Fahrenheit?"
      ],
      "metadata": {
        "id": "6DAG6lyLHEve"
      }
    },
    {
      "cell_type": "code",
      "source": [
        "Celsius = float(input(\"Enter the temperature: \"))\n",
        "\n",
        "Fahrenheit = (Celsius*1.8) + 32\n",
        "print(f\"the percentage of Celsius:{Celsius}degrees converted into Fahrenheit: %{Fahrenheit}degrees\")"
      ],
      "metadata": {
        "colab": {
          "base_uri": "https://localhost:8080/"
        },
        "id": "komu6NXoHL-u",
        "outputId": "8a98b8bf-36fc-4180-f0de-c3161a80673e"
      },
      "execution_count": 9,
      "outputs": [
        {
          "output_type": "stream",
          "name": "stdout",
          "text": [
            "Enter the temperature: 34\n",
            "the percentage of Celsius:34.0degrees converted into Fahrenheit: %93.2degrees\n"
          ]
        }
      ]
    },
    {
      "cell_type": "markdown",
      "source": [
        "# 3. Write a Python program to display calendar?"
      ],
      "metadata": {
        "id": "ZoO_L1BALuON"
      }
    },
    {
      "cell_type": "code",
      "source": [
        "import calendar\n",
        "yyyy  = 2022\n",
        "\n",
        "# yyyy = input(\"Enter your favourite year\")\n",
        "# mm = input(\"Enter your favourite month\")\n",
        "print(calendar.calendar(yyyy))"
      ],
      "metadata": {
        "colab": {
          "base_uri": "https://localhost:8080/"
        },
        "id": "wFpCSmjORYhp",
        "outputId": "ec46793f-e1fc-45a8-a670-9d1845886893"
      },
      "execution_count": 22,
      "outputs": [
        {
          "output_type": "stream",
          "name": "stdout",
          "text": [
            "                                  2022\n",
            "\n",
            "      January                   February                   March\n",
            "Mo Tu We Th Fr Sa Su      Mo Tu We Th Fr Sa Su      Mo Tu We Th Fr Sa Su\n",
            "                1  2          1  2  3  4  5  6          1  2  3  4  5  6\n",
            " 3  4  5  6  7  8  9       7  8  9 10 11 12 13       7  8  9 10 11 12 13\n",
            "10 11 12 13 14 15 16      14 15 16 17 18 19 20      14 15 16 17 18 19 20\n",
            "17 18 19 20 21 22 23      21 22 23 24 25 26 27      21 22 23 24 25 26 27\n",
            "24 25 26 27 28 29 30      28                        28 29 30 31\n",
            "31\n",
            "\n",
            "       April                      May                       June\n",
            "Mo Tu We Th Fr Sa Su      Mo Tu We Th Fr Sa Su      Mo Tu We Th Fr Sa Su\n",
            "             1  2  3                         1             1  2  3  4  5\n",
            " 4  5  6  7  8  9 10       2  3  4  5  6  7  8       6  7  8  9 10 11 12\n",
            "11 12 13 14 15 16 17       9 10 11 12 13 14 15      13 14 15 16 17 18 19\n",
            "18 19 20 21 22 23 24      16 17 18 19 20 21 22      20 21 22 23 24 25 26\n",
            "25 26 27 28 29 30         23 24 25 26 27 28 29      27 28 29 30\n",
            "                          30 31\n",
            "\n",
            "        July                     August                  September\n",
            "Mo Tu We Th Fr Sa Su      Mo Tu We Th Fr Sa Su      Mo Tu We Th Fr Sa Su\n",
            "             1  2  3       1  2  3  4  5  6  7                1  2  3  4\n",
            " 4  5  6  7  8  9 10       8  9 10 11 12 13 14       5  6  7  8  9 10 11\n",
            "11 12 13 14 15 16 17      15 16 17 18 19 20 21      12 13 14 15 16 17 18\n",
            "18 19 20 21 22 23 24      22 23 24 25 26 27 28      19 20 21 22 23 24 25\n",
            "25 26 27 28 29 30 31      29 30 31                  26 27 28 29 30\n",
            "\n",
            "      October                   November                  December\n",
            "Mo Tu We Th Fr Sa Su      Mo Tu We Th Fr Sa Su      Mo Tu We Th Fr Sa Su\n",
            "                1  2          1  2  3  4  5  6                1  2  3  4\n",
            " 3  4  5  6  7  8  9       7  8  9 10 11 12 13       5  6  7  8  9 10 11\n",
            "10 11 12 13 14 15 16      14 15 16 17 18 19 20      12 13 14 15 16 17 18\n",
            "17 18 19 20 21 22 23      21 22 23 24 25 26 27      19 20 21 22 23 24 25\n",
            "24 25 26 27 28 29 30      28 29 30                  26 27 28 29 30 31\n",
            "31\n",
            "\n"
          ]
        }
      ]
    },
    {
      "cell_type": "markdown",
      "source": [
        "# 4. Write a Python program to solve quadratic equation?\n",
        "```\n",
        "ax**2 + bx + c = 0\n",
        "The general form of quadratic equations\n",
        "where a is not equal to zero, a, b, c are called co-efficients.\n",
        "```\n",
        "```\n",
        "d = b**2 - 4ac\n",
        "\n"
      ],
      "metadata": {
        "id": "R85cq8m_TfVM"
      }
    },
    {
      "cell_type": "code",
      "source": [
        "import cmath\n",
        "a = float(input(\"Enter the value of a :\"))\n",
        "b = float(input(\"Enter the value of b : \"))\n",
        "c = float(input(\"Enter the value of c : \"))\n",
        "\n",
        "\n",
        "#the discriminant called\n",
        "d = (b**2) - (4*a*c)\n",
        "\n",
        "#the solution for quadratic equations are\n",
        "x1 = (-b + cmath.sqrt(d))/(2*a)\n",
        "x2 = (-b - cmath.sqrt(d))/(2*a)\n",
        "print(x1,x2)"
      ],
      "metadata": {
        "colab": {
          "base_uri": "https://localhost:8080/"
        },
        "id": "tKmlvKWvV0oa",
        "outputId": "c40a5bc6-4fbe-4572-c83d-e1f1232f1128"
      },
      "execution_count": 27,
      "outputs": [
        {
          "output_type": "stream",
          "name": "stdout",
          "text": [
            "Enter the value of a :8\n",
            "Enter the value of b : 5\n",
            "Enter the value of c : 9\n",
            "(-0.3125+1.0135796712641785j) (-0.3125-1.0135796712641785j)\n"
          ]
        }
      ]
    },
    {
      "cell_type": "code",
      "source": [
        "import cmath\n",
        "a = int(input(\"Enter the value of a: \"))\n",
        "b = int(input(\"Enter the value of b: \"))\n",
        "c = int(input(\"Enter the value of c: \"))\n",
        "\n",
        "#the discriminant value\n",
        "d = (b**2) - (4*a*c)\n",
        "\n",
        "x1 = (-b + cmath.sqrt(d))/(2*a)\n",
        "x2 = (-b - cmath.sqrt(d))/(2*a)\n",
        "\n",
        "print(\"the solution of x1 and x2 are\", x1, x2)"
      ],
      "metadata": {
        "colab": {
          "base_uri": "https://localhost:8080/"
        },
        "id": "hc5BmL4rX7Se",
        "outputId": "85cf22a4-6695-4598-e1b8-242d6618a510"
      },
      "execution_count": 30,
      "outputs": [
        {
          "output_type": "stream",
          "name": "stdout",
          "text": [
            "Enter the value of a: 8\n",
            "Enter the value of b: 5\n",
            "Enter the value of c: 9\n",
            "the solution of x1 and x2 are (-0.3125+1.0135796712641785j) (-0.3125-1.0135796712641785j)\n"
          ]
        }
      ]
    },
    {
      "cell_type": "markdown",
      "source": [
        "# 5. Write a Python program to swap two variables without temp variable?"
      ],
      "metadata": {
        "id": "g0A9HcflaH1k"
      }
    },
    {
      "cell_type": "code",
      "source": [
        "x = 10\n",
        "y = 30\n",
        "\n",
        "x , y = y ,x\n",
        "\n",
        "print(\"the variable of x is: \",x)\n",
        "print(\"the variable of y is: \",y)"
      ],
      "metadata": {
        "colab": {
          "base_uri": "https://localhost:8080/"
        },
        "id": "JmNs20c4aK04",
        "outputId": "003d6038-2058-4eca-cf07-9a52d5c66974"
      },
      "execution_count": 34,
      "outputs": [
        {
          "output_type": "stream",
          "name": "stdout",
          "text": [
            "the variable of x is:  30\n",
            "the variable of y is:  10\n"
          ]
        }
      ]
    }
  ]
}