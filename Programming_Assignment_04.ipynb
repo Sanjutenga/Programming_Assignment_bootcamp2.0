{
 "cells": [
  {
   "cell_type": "markdown",
   "id": "c88511ad",
   "metadata": {},
   "source": [
    "# 1. Write a Python Program to Find the Factorial of a Number?\n",
    "n! = n*(n-1)*(n-2)*(n-3)\n"
   ]
  },
  {
   "cell_type": "code",
   "execution_count": 5,
   "id": "f1eb7c17",
   "metadata": {},
   "outputs": [
    {
     "name": "stdout",
     "output_type": "stream",
     "text": [
      "Enter an number to find factorial   5\n",
      "120\n"
     ]
    }
   ],
   "source": [
    "import math\n",
    "def fact(n):\n",
    "    return (math.factorial(n))\n",
    "\n",
    "num = int(input(\"Enter an number to find factorial   \"))\n",
    "f = fact(num)\n",
    "print(f)\n"
   ]
  },
  {
   "cell_type": "markdown",
   "id": "a7ed72f0",
   "metadata": {},
   "source": [
    "# 2. Write a Python Program to Display the multiplication Table?"
   ]
  },
  {
   "cell_type": "code",
   "execution_count": 11,
   "id": "153c22c0",
   "metadata": {},
   "outputs": [
    {
     "name": "stdout",
     "output_type": "stream",
     "text": [
      "Enter an number to display the multiplication table = 66\n",
      "66 * 1 = 66\n",
      "66 * 2 = 132\n",
      "66 * 3 = 198\n",
      "66 * 4 = 264\n",
      "66 * 5 = 330\n",
      "66 * 6 = 396\n",
      "66 * 7 = 462\n",
      "66 * 8 = 528\n",
      "66 * 9 = 594\n",
      "66 * 10 = 660\n"
     ]
    }
   ],
   "source": [
    "num = int(input(\"Enter an number to display the multiplication table = \"))\n",
    "\n",
    "for i in range(1,11):  # this is outbound is 11\n",
    "    print(num, '*',i, '=', num*i)"
   ]
  },
  {
   "cell_type": "markdown",
   "id": "19e3f62b",
   "metadata": {},
   "source": [
    "# 3. Write a Python Program to Print the Fibonacci sequence?\n",
    "\n",
    "The sum of last 2 digit 0, 1,1,2,3,5,8,13,21,34"
   ]
  },
  {
   "cell_type": "code",
   "execution_count": 12,
   "id": "f2ef07f4",
   "metadata": {},
   "outputs": [],
   "source": [
    "def fib(n):\n",
    "    a = 1\n",
    "    b = 1\n",
    "    for i in range(n):\n",
    "        yield a , i\n",
    "        a , b = b , a+b"
   ]
  },
  {
   "cell_type": "code",
   "execution_count": 14,
   "id": "70dbafef",
   "metadata": {},
   "outputs": [
    {
     "name": "stdout",
     "output_type": "stream",
     "text": [
      "(1, 0)\n",
      "(1, 1)\n",
      "(2, 2)\n",
      "(3, 3)\n",
      "(5, 4)\n",
      "(8, 5)\n",
      "(13, 6)\n",
      "(21, 7)\n",
      "(34, 8)\n",
      "(55, 9)\n",
      "(89, 10)\n",
      "(144, 11)\n",
      "(233, 12)\n",
      "(377, 13)\n",
      "(610, 14)\n",
      "(987, 15)\n",
      "(1597, 16)\n",
      "(2584, 17)\n",
      "(4181, 18)\n",
      "(6765, 19)\n",
      "(10946, 20)\n",
      "(17711, 21)\n",
      "(28657, 22)\n",
      "(46368, 23)\n",
      "(75025, 24)\n",
      "(121393, 25)\n",
      "(196418, 26)\n",
      "(317811, 27)\n",
      "(514229, 28)\n",
      "(832040, 29)\n",
      "(1346269, 30)\n",
      "(2178309, 31)\n",
      "(3524578, 32)\n",
      "(5702887, 33)\n",
      "(9227465, 34)\n",
      "(14930352, 35)\n",
      "(24157817, 36)\n",
      "(39088169, 37)\n",
      "(63245986, 38)\n",
      "(102334155, 39)\n"
     ]
    }
   ],
   "source": [
    "for i in fib(40):\n",
    "    print(i)"
   ]
  },
  {
   "cell_type": "markdown",
   "id": "b93b2b6c",
   "metadata": {},
   "source": [
    "# 4. Write a Python Program to Check Armstrong Number?\n",
    "\n",
    "153 =  1*1*1 + 5*5*5 + 3*3*3\n",
    "371"
   ]
  },
  {
   "cell_type": "code",
   "execution_count": 26,
   "id": "9a18afcd",
   "metadata": {},
   "outputs": [
    {
     "name": "stdout",
     "output_type": "stream",
     "text": [
      "Enter an number to check Armstrong = 153\n",
      "Its an Armstrong number 153\n"
     ]
    }
   ],
   "source": [
    "num = int(input(\"Enter an number to check Armstrong = \"))\n",
    "\n",
    "sum = 0     #initiliaze sum\n",
    "\n",
    "temp = num   # passing values inside temp to num\n",
    "\n",
    "while temp > 0:\n",
    "    digit = temp % 10\n",
    "    sum+= digit**3\n",
    "    temp //= 10\n",
    "\n",
    "if num == sum:\n",
    "    print(\"Its an Armstrong number\", num)\n",
    "else:\n",
    "    print(\"Its not an Armstrong number\", num)"
   ]
  },
  {
   "cell_type": "markdown",
   "id": "c32ce3fd",
   "metadata": {},
   "source": [
    "# 5. Write a Python Program to Find Armstrong Number in an Interval?"
   ]
  },
  {
   "cell_type": "code",
   "execution_count": 57,
   "id": "899ca152",
   "metadata": {},
   "outputs": [
    {
     "name": "stdout",
     "output_type": "stream",
     "text": [
      "153\n",
      "370\n",
      "371\n",
      "407\n",
      "1634\n",
      "8208\n",
      "9474\n",
      "54748\n",
      "92727\n",
      "93084\n"
     ]
    }
   ],
   "source": [
    "# armstrong number interval\n",
    "\n",
    "lower =10\n",
    "upper = 100000\n",
    "\n",
    "for num in range(lower,upper+1):\n",
    "  order = len(str(num))\n",
    "\n",
    "  sum =0\n",
    "  temp = num\n",
    "\n",
    "  while temp > 0:\n",
    "    digit = temp%10\n",
    "    sum+= digit**order\n",
    "    temp //= 10\n",
    "  if num == sum:\n",
    "    print(num)\n"
   ]
  },
  {
   "cell_type": "markdown",
   "id": "a325d9d3",
   "metadata": {},
   "source": [
    "# 6. Write a Python Program to Find the Sum of Natural Numbers?\n",
    "\n",
    "sum = n * (n+1)/2"
   ]
  },
  {
   "cell_type": "code",
   "execution_count": 8,
   "id": "17de9a4c",
   "metadata": {},
   "outputs": [
    {
     "name": "stdout",
     "output_type": "stream",
     "text": [
      "Enter an number to sum350\n",
      "61425\n"
     ]
    }
   ],
   "source": [
    "num = int(input(\"Enter an number to sum\"))\n",
    "\n",
    "sum  = 0\n",
    "while num >0:\n",
    "    sum = sum + num\n",
    "    num = num -1\n",
    "print(sum)"
   ]
  }
 ],
 "metadata": {
  "kernelspec": {
   "display_name": "Python 3 (ipykernel)",
   "language": "python",
   "name": "python3"
  },
  "language_info": {
   "codemirror_mode": {
    "name": "ipython",
    "version": 3
   },
   "file_extension": ".py",
   "mimetype": "text/x-python",
   "name": "python",
   "nbconvert_exporter": "python",
   "pygments_lexer": "ipython3",
   "version": "3.9.13"
  }
 },
 "nbformat": 4,
 "nbformat_minor": 5
}
