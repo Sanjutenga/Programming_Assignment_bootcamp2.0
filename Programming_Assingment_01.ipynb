{
  "nbformat": 4,
  "nbformat_minor": 0,
  "metadata": {
    "colab": {
      "provenance": []
    },
    "kernelspec": {
      "name": "python3",
      "display_name": "Python 3"
    },
    "language_info": {
      "name": "python"
    }
  },
  "cells": [
    {
      "cell_type": "markdown",
      "source": [
        "# (1).Write a Python program to print \"Hello Python\"?"
      ],
      "metadata": {
        "id": "_RJA6mWxuANM"
      }
    },
    {
      "cell_type": "code",
      "source": [
        "print(\"Hello Python\")"
      ],
      "metadata": {
        "colab": {
          "base_uri": "https://localhost:8080/"
        },
        "id": "dZnJA_H9uOTY",
        "outputId": "517a3597-cfb5-4425-e67b-cfa0ed04ad98"
      },
      "execution_count": 1,
      "outputs": [
        {
          "output_type": "stream",
          "name": "stdout",
          "text": [
            "Hello Python\n"
          ]
        }
      ]
    },
    {
      "cell_type": "code",
      "source": [
        "print(f\"Hello Python\")"
      ],
      "metadata": {
        "colab": {
          "base_uri": "https://localhost:8080/"
        },
        "id": "F-mQ2xR9uR8q",
        "outputId": "a4295f11-e5ad-405d-ea51-7edb76a30bf6"
      },
      "execution_count": 3,
      "outputs": [
        {
          "output_type": "stream",
          "name": "stdout",
          "text": [
            "Hello Python\n"
          ]
        }
      ]
    },
    {
      "cell_type": "markdown",
      "source": [
        "# (2).Write a Python program to do arithmetical operations addition and division.?"
      ],
      "metadata": {
        "id": "k8hwwmL2uhTO"
      }
    },
    {
      "cell_type": "code",
      "source": [
        "A = 22.55\n",
        "B = 55.34\n",
        "C = 44.55\n",
        "print(f\"The sum of A B and C are {A},{B} and {C} is \", A+B+C)"
      ],
      "metadata": {
        "colab": {
          "base_uri": "https://localhost:8080/"
        },
        "id": "UlqnVwkzumge",
        "outputId": "677943c8-7835-4e34-9406-63f81ad0aea8"
      },
      "execution_count": 15,
      "outputs": [
        {
          "output_type": "stream",
          "name": "stdout",
          "text": [
            "The sum of A B and C are 22.55,55.34 and 44.55 is  122.44\n"
          ]
        }
      ]
    },
    {
      "cell_type": "code",
      "source": [
        "A = 33\n",
        "B = 2\n",
        "print(\"The division of A and B are \", A/B)"
      ],
      "metadata": {
        "colab": {
          "base_uri": "https://localhost:8080/"
        },
        "id": "gwQ2q4F7uvMq",
        "outputId": "89bb91ec-028a-4cf1-9da9-d0de95d51d18"
      },
      "execution_count": 19,
      "outputs": [
        {
          "output_type": "stream",
          "name": "stdout",
          "text": [
            "The division of A and B are  16.5\n"
          ]
        }
      ]
    },
    {
      "cell_type": "markdown",
      "source": [
        "# (3).Write a Python program to find the area of a triangle?"
      ],
      "metadata": {
        "id": "8I8yY2rLwlVL"
      }
    },
    {
      "cell_type": "code",
      "source": [
        "base = float(input(\"enter the base: \"))\n",
        "height = float(input(\"enter the height: \"))\n",
        "\n",
        "area = 1/2*base*height  #area = 0.5*b*h\n",
        "print(\"The area of traingle is \", area)"
      ],
      "metadata": {
        "colab": {
          "base_uri": "https://localhost:8080/"
        },
        "id": "ih-IjR_8ydV7",
        "outputId": "2d86f5d7-2102-4653-ca9e-695741296fbb"
      },
      "execution_count": 20,
      "outputs": [
        {
          "output_type": "stream",
          "name": "stdout",
          "text": [
            "enter the base: 4\n",
            "enter the height: 5\n",
            "The area of traingle is  10.0\n"
          ]
        }
      ]
    },
    {
      "cell_type": "code",
      "source": [
        "base = int(input(\"enter the base: \"))\n",
        "height = float(input(\"enter the height: \"))\n",
        "\n",
        "area = 1/2*base*height  #area = 0.5*b*h\n",
        "print(\"The area of traingle is \", area)"
      ],
      "metadata": {
        "colab": {
          "base_uri": "https://localhost:8080/"
        },
        "id": "ELmOBdSxy7jX",
        "outputId": "0a2ad337-7003-461d-ac0b-da65a3eff496"
      },
      "execution_count": 21,
      "outputs": [
        {
          "output_type": "stream",
          "name": "stdout",
          "text": [
            "enter the base: 4\n",
            "enter the height: 5\n",
            "The area of traingle is  10.0\n"
          ]
        }
      ]
    },
    {
      "cell_type": "markdown",
      "source": [
        "# (4).Write a Python program to swap two variables?"
      ],
      "metadata": {
        "id": "y2hTPbb13Sfr"
      }
    },
    {
      "cell_type": "code",
      "source": [
        "a = int(input(\"\"\"enter the value of \"a\": \"\"\"))\n",
        "b = int(input(\"\"\"enter the value of \"b\": \"\"\"))\n",
        "\n",
        "# let consider another value as temp\n",
        "\n",
        "temp = a\n",
        "a = b\n",
        "b = temp\n",
        "\n",
        "print(\"\"\"the value of \"a\" after swapping: \"\"\", a)\n",
        "print(\"\"\"the value of \"b\" after swapping: \"\"\", b)\n"
      ],
      "metadata": {
        "colab": {
          "base_uri": "https://localhost:8080/"
        },
        "id": "uglHLRyW3Zbx",
        "outputId": "bdba364f-b919-44d7-f9da-d3becc2aa30b"
      },
      "execution_count": 22,
      "outputs": [
        {
          "output_type": "stream",
          "name": "stdout",
          "text": [
            "enter the value of \"a\": 4\n",
            "enter the value of \"b\": 5\n",
            "the value of \"a\" after swapping:  5\n",
            "the value of \"b\" after swapping:  4\n"
          ]
        }
      ]
    },
    {
      "cell_type": "code",
      "source": [
        "a = float(input(\"\"\"enter the value of \"a\": \"\"\"))\n",
        "b = float(input(\"\"\"enter the value of \"b\": \"\"\"))\n",
        "\n",
        "# let consider another value as temp\n",
        "\n",
        "temp = a\n",
        "a = b\n",
        "b = temp\n",
        "\n",
        "print(\"\"\"the value of \"a\" after swapping: \"\"\", a)\n",
        "print(\"\"\"the value of \"b\" after swapping: \"\"\", b)"
      ],
      "metadata": {
        "colab": {
          "base_uri": "https://localhost:8080/"
        },
        "id": "si9m6e_F47ep",
        "outputId": "fd13203c-6961-46d4-d642-befaec386bfd"
      },
      "execution_count": 25,
      "outputs": [
        {
          "output_type": "stream",
          "name": "stdout",
          "text": [
            "enter the value of \"a\": 44.0\n",
            "enter the value of \"b\": 55.7\n",
            "the value of \"a\" after swapping:  55.7\n",
            "the value of \"b\" after swapping:  44.0\n"
          ]
        }
      ]
    },
    {
      "cell_type": "code",
      "source": [
        "a = \"SanJayu\" #this is for reference\n",
        "a.swapcase()"
      ],
      "metadata": {
        "colab": {
          "base_uri": "https://localhost:8080/",
          "height": 36
        },
        "id": "7ynDGhFv5v1J",
        "outputId": "126df0e2-0709-4c58-eb36-c53a08f11a4e"
      },
      "execution_count": 26,
      "outputs": [
        {
          "output_type": "execute_result",
          "data": {
            "text/plain": [
              "'sANjAYU'"
            ],
            "application/vnd.google.colaboratory.intrinsic+json": {
              "type": "string"
            }
          },
          "metadata": {},
          "execution_count": 26
        }
      ]
    },
    {
      "cell_type": "markdown",
      "source": [
        "# (5).Write a Python program to generate a random number?"
      ],
      "metadata": {
        "id": "NI7yOJUj58NJ"
      }
    },
    {
      "cell_type": "code",
      "source": [
        "import random  \n",
        "n = random.random()  \n",
        "print(n)  "
      ],
      "metadata": {
        "colab": {
          "base_uri": "https://localhost:8080/"
        },
        "id": "iC8Sn6Zb6Gyw",
        "outputId": "b05fa8c4-5828-43c6-dbae-0bc851cc38ab"
      },
      "execution_count": 27,
      "outputs": [
        {
          "output_type": "stream",
          "name": "stdout",
          "text": [
            "0.16428915377016906\n"
          ]
        }
      ]
    },
    {
      "cell_type": "code",
      "source": [
        "list = [33,44,55,66,77]\n",
        "print(random.choice(list))"
      ],
      "metadata": {
        "colab": {
          "base_uri": "https://localhost:8080/"
        },
        "id": "Wze-SQOp6Ufb",
        "outputId": "2c695c15-3ced-4aed-e333-c370b6da8acf"
      },
      "execution_count": 30,
      "outputs": [
        {
          "output_type": "stream",
          "name": "stdout",
          "text": [
            "66\n"
          ]
        }
      ]
    },
    {
      "cell_type": "code",
      "source": [
        "list = [\"sanjay\",\"neuron\",\"data\",\"datasector\"]\n",
        "print(random.choice(list))"
      ],
      "metadata": {
        "colab": {
          "base_uri": "https://localhost:8080/"
        },
        "id": "do3MDvbI6vAa",
        "outputId": "0b5670b3-6472-4c2c-fa66-c8e285d0f878"
      },
      "execution_count": 36,
      "outputs": [
        {
          "output_type": "stream",
          "name": "stdout",
          "text": [
            "datasector\n"
          ]
        }
      ]
    }
  ]
}